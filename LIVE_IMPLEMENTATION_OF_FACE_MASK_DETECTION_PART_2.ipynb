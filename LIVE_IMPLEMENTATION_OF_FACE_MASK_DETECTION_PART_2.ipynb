{
  "cells": [
    {
      "cell_type": "markdown",
      "metadata": {
        "id": "view-in-github",
        "colab_type": "text"
      },
      "source": [
        "<a href=\"https://colab.research.google.com/github/19PA1A04B1/LIVE-IMPLEMENTATION-OF-FACE-MASK-DETECTION-/blob/main/LIVE_IMPLEMENTATION_OF_FACE_MASK_DETECTION_PART_2.ipynb\" target=\"_parent\"><img src=\"https://colab.research.google.com/assets/colab-badge.svg\" alt=\"Open In Colab\"/></a>"
      ]
    },
    {
      "cell_type": "code",
      "execution_count": null,
      "id": "2179f491",
      "metadata": {
        "id": "2179f491"
      },
      "outputs": [],
      "source": [
        "import numpy as np\n",
        "import cv2"
      ]
    },
    {
      "cell_type": "code",
      "execution_count": null,
      "id": "850f866e",
      "metadata": {
        "id": "850f866e"
      },
      "outputs": [],
      "source": [
        "with_mask=np.load('with_mask.npy')\n",
        "without_mask=np.load('without_mask.npy')"
      ]
    },
    {
      "cell_type": "code",
      "execution_count": null,
      "id": "03995bb9",
      "metadata": {
        "id": "03995bb9",
        "outputId": "a76036f6-4e83-4ca1-b605-21c0db6d27ab"
      },
      "outputs": [
        {
          "data": {
            "text/plain": [
              "(200, 50, 50, 3)"
            ]
          },
          "execution_count": 4,
          "metadata": {},
          "output_type": "execute_result"
        }
      ],
      "source": [
        "with_mask.shape"
      ]
    },
    {
      "cell_type": "code",
      "execution_count": null,
      "id": "dd91cf98",
      "metadata": {
        "id": "dd91cf98",
        "outputId": "d89b8e23-78ee-4e49-be24-27e179b1adbb"
      },
      "outputs": [
        {
          "data": {
            "text/plain": [
              "(200, 50, 50, 3)"
            ]
          },
          "execution_count": 5,
          "metadata": {},
          "output_type": "execute_result"
        }
      ],
      "source": [
        "without_mask.shape"
      ]
    },
    {
      "cell_type": "code",
      "execution_count": null,
      "id": "17051f68",
      "metadata": {
        "id": "17051f68"
      },
      "outputs": [],
      "source": [
        "with_mask=with_mask.reshape(200,50*50*3)\n",
        "without_mask=without_mask.reshape(200,50*50*3)"
      ]
    },
    {
      "cell_type": "code",
      "execution_count": null,
      "id": "21b6099a",
      "metadata": {
        "id": "21b6099a",
        "outputId": "7847be76-1d09-4568-a709-9626a41dad75"
      },
      "outputs": [
        {
          "data": {
            "text/plain": [
              "(200, 7500)"
            ]
          },
          "execution_count": 7,
          "metadata": {},
          "output_type": "execute_result"
        }
      ],
      "source": [
        "with_mask.shape"
      ]
    },
    {
      "cell_type": "code",
      "execution_count": null,
      "id": "e1034043",
      "metadata": {
        "id": "e1034043",
        "outputId": "57ca241e-0eda-4eb4-fbb8-58d7e46e5718"
      },
      "outputs": [
        {
          "data": {
            "text/plain": [
              "(200, 7500)"
            ]
          },
          "execution_count": 8,
          "metadata": {},
          "output_type": "execute_result"
        }
      ],
      "source": [
        "without_mask.shape"
      ]
    },
    {
      "cell_type": "code",
      "execution_count": null,
      "id": "67f57080",
      "metadata": {
        "id": "67f57080"
      },
      "outputs": [],
      "source": [
        "X=np.r_[with_mask,without_mask]"
      ]
    },
    {
      "cell_type": "code",
      "execution_count": null,
      "id": "eb6805a4",
      "metadata": {
        "id": "eb6805a4",
        "outputId": "0f17580c-d2a9-4caf-96be-c30719ce3aa0"
      },
      "outputs": [
        {
          "data": {
            "text/plain": [
              "(400, 7500)"
            ]
          },
          "execution_count": 10,
          "metadata": {},
          "output_type": "execute_result"
        }
      ],
      "source": [
        "X.shape"
      ]
    },
    {
      "cell_type": "code",
      "execution_count": null,
      "id": "e8a8bb4d",
      "metadata": {
        "id": "e8a8bb4d"
      },
      "outputs": [],
      "source": [
        "labels=np.zeros(X.shape[0])"
      ]
    },
    {
      "cell_type": "code",
      "execution_count": null,
      "id": "e1ba48b7",
      "metadata": {
        "id": "e1ba48b7"
      },
      "outputs": [],
      "source": [
        "labels[200:]=1.0"
      ]
    },
    {
      "cell_type": "code",
      "execution_count": null,
      "id": "574ceb1a",
      "metadata": {
        "id": "574ceb1a"
      },
      "outputs": [],
      "source": [
        "names={0:'Mask',1:'No Mask'}"
      ]
    },
    {
      "cell_type": "code",
      "execution_count": null,
      "id": "1f1eeffd",
      "metadata": {
        "id": "1f1eeffd"
      },
      "outputs": [],
      "source": [
        "from sklearn.svm import SVC\n",
        "from sklearn.metrics import accuracy_score"
      ]
    },
    {
      "cell_type": "code",
      "execution_count": null,
      "id": "6983d67c",
      "metadata": {
        "id": "6983d67c"
      },
      "outputs": [],
      "source": [
        "from sklearn.model_selection import train_test_split"
      ]
    },
    {
      "cell_type": "code",
      "execution_count": null,
      "id": "0bc0cb46",
      "metadata": {
        "id": "0bc0cb46"
      },
      "outputs": [],
      "source": [
        "x_train,x_test,y_train,y_test=train_test_split(X,labels,test_size=0.25)"
      ]
    },
    {
      "cell_type": "code",
      "execution_count": null,
      "id": "a53fbee3",
      "metadata": {
        "id": "a53fbee3",
        "outputId": "eb82c4b9-032b-4d62-8923-9e3756fa0031"
      },
      "outputs": [
        {
          "name": "stdout",
          "output_type": "stream",
          "text": [
            "(300, 7500)\n",
            "(100, 7500)\n",
            "(300,)\n",
            "(100,)\n"
          ]
        }
      ],
      "source": [
        "print(x_train.shape)\n",
        "print(x_test.shape)\n",
        "print(y_train.shape)\n",
        "print(y_test.shape)"
      ]
    },
    {
      "cell_type": "code",
      "execution_count": null,
      "id": "68f2cadc",
      "metadata": {
        "id": "68f2cadc"
      },
      "outputs": [],
      "source": [
        "from sklearn.decomposition import PCA"
      ]
    },
    {
      "cell_type": "code",
      "execution_count": null,
      "id": "53ac6061",
      "metadata": {
        "id": "53ac6061"
      },
      "outputs": [],
      "source": [
        "pca=PCA(n_components=3)\n",
        "x_train=pca.fit_transform(x_train)"
      ]
    },
    {
      "cell_type": "code",
      "execution_count": null,
      "id": "5283989f",
      "metadata": {
        "id": "5283989f",
        "outputId": "f3332e73-df09-45c6-e13a-466aaadf6fc4"
      },
      "outputs": [
        {
          "data": {
            "text/plain": [
              "(300, 3)"
            ]
          },
          "execution_count": 24,
          "metadata": {},
          "output_type": "execute_result"
        }
      ],
      "source": [
        "x_train.shape"
      ]
    },
    {
      "cell_type": "code",
      "execution_count": null,
      "id": "8df13f7a",
      "metadata": {
        "id": "8df13f7a",
        "outputId": "9fc6b9da-1cb0-4b58-9a38-d4186ebfe1e5"
      },
      "outputs": [
        {
          "data": {
            "text/plain": [
              "SVC()"
            ]
          },
          "execution_count": 25,
          "metadata": {},
          "output_type": "execute_result"
        }
      ],
      "source": [
        "svm=SVC()\n",
        "svm.fit(x_train,y_train)"
      ]
    },
    {
      "cell_type": "code",
      "execution_count": null,
      "id": "f8e8fcdb",
      "metadata": {
        "id": "f8e8fcdb"
      },
      "outputs": [],
      "source": [
        "x_test=pca.fit_transform(x_test)\n",
        "y_pred=svm.predict(x_test)"
      ]
    },
    {
      "cell_type": "code",
      "execution_count": null,
      "id": "b1e6b5df",
      "metadata": {
        "id": "b1e6b5df",
        "outputId": "808e409e-231d-4d55-d18a-c0dd8633b5aa"
      },
      "outputs": [
        {
          "data": {
            "text/plain": [
              "0.96"
            ]
          },
          "execution_count": 28,
          "metadata": {},
          "output_type": "execute_result"
        }
      ],
      "source": [
        "accuracy_score(y_test,y_pred)"
      ]
    },
    {
      "cell_type": "code",
      "execution_count": null,
      "id": "b5d43c9a",
      "metadata": {
        "id": "b5d43c9a",
        "outputId": "0aa8810b-a6be-40ff-f8de-e49441180c99"
      },
      "outputs": [
        {
          "name": "stdout",
          "output_type": "stream",
          "text": [
            "No Mask\n",
            "No Mask\n",
            "Mask\n",
            "No Mask\n",
            "No Mask\n",
            "Mask\n",
            "Mask\n",
            "No Mask\n",
            "No Mask\n",
            "Mask\n",
            "Mask\n",
            "No Mask\n",
            "Mask\n",
            "No Mask\n",
            "Mask\n",
            "No Mask\n",
            "No Mask\n",
            "No Mask\n",
            "No Mask\n",
            "No Mask\n",
            "No Mask\n",
            "No Mask\n",
            "No Mask\n",
            "No Mask\n",
            "No Mask\n",
            "No Mask\n",
            "No Mask\n",
            "No Mask\n",
            "No Mask\n",
            "No Mask\n",
            "No Mask\n",
            "No Mask\n",
            "No Mask\n",
            "No Mask\n",
            "No Mask\n",
            "No Mask\n",
            "No Mask\n",
            "No Mask\n",
            "No Mask\n",
            "No Mask\n",
            "No Mask\n",
            "No Mask\n",
            "No Mask\n",
            "No Mask\n",
            "No Mask\n",
            "No Mask\n",
            "No Mask\n",
            "No Mask\n",
            "No Mask\n",
            "No Mask\n",
            "No Mask\n",
            "No Mask\n",
            "No Mask\n",
            "No Mask\n",
            "No Mask\n",
            "No Mask\n",
            "No Mask\n",
            "No Mask\n",
            "No Mask\n",
            "No Mask\n",
            "No Mask\n",
            "No Mask\n",
            "No Mask\n",
            "No Mask\n",
            "No Mask\n",
            "No Mask\n",
            "No Mask\n",
            "No Mask\n",
            "No Mask\n",
            "No Mask\n",
            "No Mask\n",
            "No Mask\n",
            "No Mask\n",
            "No Mask\n",
            "No Mask\n",
            "No Mask\n",
            "No Mask\n",
            "No Mask\n",
            "No Mask\n",
            "No Mask\n",
            "No Mask\n",
            "No Mask\n",
            "No Mask\n",
            "No Mask\n",
            "No Mask\n",
            "No Mask\n",
            "No Mask\n",
            "No Mask\n",
            "No Mask\n",
            "No Mask\n",
            "No Mask\n",
            "No Mask\n",
            "No Mask\n",
            "No Mask\n",
            "No Mask\n",
            "No Mask\n",
            "No Mask\n",
            "No Mask\n",
            "No Mask\n",
            "No Mask\n",
            "No Mask\n",
            "No Mask\n",
            "No Mask\n",
            "No Mask\n",
            "No Mask\n",
            "No Mask\n",
            "No Mask\n",
            "No Mask\n",
            "No Mask\n",
            "No Mask\n",
            "No Mask\n",
            "No Mask\n",
            "No Mask\n",
            "No Mask\n",
            "No Mask\n",
            "No Mask\n",
            "No Mask\n",
            "No Mask\n",
            "No Mask\n",
            "No Mask\n",
            "No Mask\n",
            "No Mask\n",
            "No Mask\n",
            "No Mask\n",
            "No Mask\n",
            "No Mask\n",
            "No Mask\n",
            "No Mask\n",
            "No Mask\n",
            "No Mask\n",
            "No Mask\n",
            "No Mask\n",
            "Mask\n",
            "No Mask\n",
            "No Mask\n",
            "No Mask\n",
            "No Mask\n",
            "No Mask\n",
            "No Mask\n",
            "No Mask\n",
            "No Mask\n",
            "No Mask\n",
            "No Mask\n",
            "No Mask\n",
            "No Mask\n",
            "No Mask\n",
            "No Mask\n",
            "Mask\n",
            "Mask\n",
            "Mask\n",
            "Mask\n",
            "Mask\n",
            "No Mask\n",
            "No Mask\n",
            "Mask\n",
            "Mask\n",
            "Mask\n",
            "Mask\n",
            "Mask\n",
            "Mask\n",
            "Mask\n",
            "Mask\n",
            "Mask\n",
            "Mask\n",
            "No Mask\n",
            "Mask\n",
            "Mask\n",
            "Mask\n",
            "Mask\n",
            "Mask\n",
            "Mask\n",
            "Mask\n",
            "Mask\n",
            "Mask\n",
            "Mask\n",
            "Mask\n",
            "Mask\n",
            "Mask\n",
            "Mask\n",
            "Mask\n",
            "Mask\n",
            "Mask\n",
            "No Mask\n",
            "Mask\n",
            "No Mask\n",
            "Mask\n",
            "Mask\n",
            "Mask\n",
            "Mask\n",
            "Mask\n",
            "Mask\n",
            "Mask\n",
            "Mask\n",
            "Mask\n",
            "Mask\n",
            "No Mask\n",
            "Mask\n",
            "Mask\n",
            "Mask\n",
            "Mask\n",
            "Mask\n",
            "Mask\n",
            "Mask\n",
            "Mask\n",
            "Mask\n",
            "Mask\n",
            "No Mask\n",
            "Mask\n",
            "No Mask\n",
            "Mask\n",
            "Mask\n",
            "Mask\n",
            "Mask\n",
            "Mask\n",
            "Mask\n",
            "Mask\n",
            "No Mask\n",
            "No Mask\n",
            "Mask\n",
            "No Mask\n",
            "Mask\n",
            "No Mask\n",
            "Mask\n"
          ]
        },
        {
          "ename": "KeyboardInterrupt",
          "evalue": "",
          "output_type": "error",
          "traceback": [
            "\u001b[1;31m---------------------------------------------------------------------------\u001b[0m",
            "\u001b[1;31mKeyboardInterrupt\u001b[0m                         Traceback (most recent call last)",
            "\u001b[1;32m~\\AppData\\Local\\Temp/ipykernel_14876/929418814.py\u001b[0m in \u001b[0;36m<module>\u001b[1;34m\u001b[0m\n\u001b[0;32m      4\u001b[0m     \u001b[0mflag\u001b[0m\u001b[1;33m,\u001b[0m \u001b[0mimage\u001b[0m\u001b[1;33m=\u001b[0m\u001b[0mcapture\u001b[0m\u001b[1;33m.\u001b[0m\u001b[0mread\u001b[0m\u001b[1;33m(\u001b[0m\u001b[1;33m)\u001b[0m\u001b[1;33m\u001b[0m\u001b[1;33m\u001b[0m\u001b[0m\n\u001b[0;32m      5\u001b[0m     \u001b[1;32mif\u001b[0m \u001b[0mflag\u001b[0m\u001b[1;33m:\u001b[0m\u001b[1;33m\u001b[0m\u001b[1;33m\u001b[0m\u001b[0m\n\u001b[1;32m----> 6\u001b[1;33m         \u001b[0mfaces\u001b[0m\u001b[1;33m=\u001b[0m\u001b[0mhaar_data\u001b[0m\u001b[1;33m.\u001b[0m\u001b[0mdetectMultiScale\u001b[0m\u001b[1;33m(\u001b[0m\u001b[0mimage\u001b[0m\u001b[1;33m)\u001b[0m\u001b[1;33m\u001b[0m\u001b[1;33m\u001b[0m\u001b[0m\n\u001b[0m\u001b[0;32m      7\u001b[0m         \u001b[1;32mfor\u001b[0m \u001b[0mx\u001b[0m\u001b[1;33m,\u001b[0m\u001b[0my\u001b[0m\u001b[1;33m,\u001b[0m\u001b[0mw\u001b[0m\u001b[1;33m,\u001b[0m\u001b[0mh\u001b[0m \u001b[1;32min\u001b[0m \u001b[0mfaces\u001b[0m\u001b[1;33m:\u001b[0m\u001b[1;33m\u001b[0m\u001b[1;33m\u001b[0m\u001b[0m\n\u001b[0;32m      8\u001b[0m             \u001b[0mcv2\u001b[0m\u001b[1;33m.\u001b[0m\u001b[0mrectangle\u001b[0m\u001b[1;33m(\u001b[0m\u001b[0mimage\u001b[0m\u001b[1;33m,\u001b[0m \u001b[1;33m(\u001b[0m\u001b[0mx\u001b[0m\u001b[1;33m,\u001b[0m\u001b[0my\u001b[0m\u001b[1;33m)\u001b[0m\u001b[1;33m,\u001b[0m \u001b[1;33m(\u001b[0m\u001b[0mx\u001b[0m\u001b[1;33m+\u001b[0m\u001b[0mw\u001b[0m\u001b[1;33m,\u001b[0m \u001b[0my\u001b[0m\u001b[1;33m+\u001b[0m\u001b[0mh\u001b[0m\u001b[1;33m)\u001b[0m\u001b[1;33m,\u001b[0m \u001b[1;33m(\u001b[0m\u001b[1;36m255\u001b[0m\u001b[1;33m,\u001b[0m\u001b[1;36m0\u001b[0m\u001b[1;33m,\u001b[0m\u001b[1;36m255\u001b[0m\u001b[1;33m)\u001b[0m\u001b[1;33m,\u001b[0m \u001b[1;36m4\u001b[0m\u001b[1;33m)\u001b[0m\u001b[1;33m\u001b[0m\u001b[1;33m\u001b[0m\u001b[0m\n",
            "\u001b[1;31mKeyboardInterrupt\u001b[0m: "
          ]
        }
      ],
      "source": [
        "haar_data=cv2.CascadeClassifier('data.xml')\n",
        "capture=cv2.VideoCapture(0)\n",
        "while True:\n",
        "    flag, image=capture.read()\n",
        "    if flag:\n",
        "        faces=haar_data.detectMultiScale(image)\n",
        "        for x,y,w,h in faces:\n",
        "            cv2.rectangle(image, (x,y), (x+w, y+h), (255,0,255), 4)\n",
        "            face=image[y:y+h ,x:x+w, :]\n",
        "            face=cv2.resize(face,(50,50))\n",
        "            face=face.reshape(1,-1)\n",
        "            face=pca.transform(face)\n",
        "            pred=svm.predict(face)[0]\n",
        "            n=names[int(pred)]\n",
        "            print(n)\n",
        "        cv2.imshow('result',image)\n",
        "        if cv2.waitKey(2)==27:\n",
        "            break\n",
        "capture.release()\n",
        "cv2.destroyAllWindows() "
      ]
    }
  ],
  "metadata": {
    "kernelspec": {
      "display_name": "Python 3 (ipykernel)",
      "language": "python",
      "name": "python3"
    },
    "language_info": {
      "codemirror_mode": {
        "name": "ipython",
        "version": 3
      },
      "file_extension": ".py",
      "mimetype": "text/x-python",
      "name": "python",
      "nbconvert_exporter": "python",
      "pygments_lexer": "ipython3",
      "version": "3.9.7"
    },
    "colab": {
      "name": "LIVE IMPLEMENTATION OF FACE MASK DETECTION PART-2.ipynb",
      "provenance": [],
      "include_colab_link": true
    }
  },
  "nbformat": 4,
  "nbformat_minor": 5
}